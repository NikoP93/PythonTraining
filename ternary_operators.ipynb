{
 "cells": [
  {
   "cell_type": "markdown",
   "metadata": {},
   "source": [
    "Function 1 - Ternary Operator (Conditional Expression)"
   ]
  },
  {
   "cell_type": "code",
   "execution_count": 10,
   "metadata": {},
   "outputs": [
    {
     "name": "stdout",
     "output_type": "stream",
     "text": [
      "Even\n",
      "Odd\n"
     ]
    }
   ],
   "source": [
    "#Write a function check_even_or_odd(n) that:\n",
    "#Takes an integer n as input.\n",
    "#Uses a ternary operator to return \"Even\" if n is even, otherwise \"Odd\".\n",
    "\n",
    "def check_even_or_odd(n):\n",
    "    return \"Even\" if n % 2 == 0 else \"Odd\"\n",
    "\n",
    "\n",
    "print(check_even_or_odd(2))\n",
    "print(check_even_or_odd(5))"
   ]
  },
  {
   "cell_type": "markdown",
   "metadata": {},
   "source": [
    "Function 2 - Lambda functions"
   ]
  },
  {
   "cell_type": "code",
   "execution_count": 11,
   "metadata": {},
   "outputs": [
    {
     "name": "stdout",
     "output_type": "stream",
     "text": [
      "7\n",
      "10\n"
     ]
    }
   ],
   "source": [
    "# Write a lambda function called max_of_two that:\n",
    "#Takes two numbers as input.\n",
    "#Returns the greater number.\n",
    "#Use a lambda function (not a def function).\n",
    "\n",
    "max_of_two = lambda x,y: x if x > y else y\n",
    "\n",
    "print(max_of_two(3, 7)) \n",
    "print(max_of_two(10, 5))"
   ]
  },
  {
   "cell_type": "markdown",
   "metadata": {},
   "source": [
    "Function 3 - Lambda with map()"
   ]
  },
  {
   "cell_type": "code",
   "execution_count": 14,
   "metadata": {},
   "outputs": [
    {
     "name": "stdout",
     "output_type": "stream",
     "text": [
      "[1, 4, 9, 16, 25]\n"
     ]
    }
   ],
   "source": [
    "# Write a lambda function inside map() that:\n",
    "#Takes a list of numbers.\n",
    "#Returns a new list where each number is squared.\n",
    "\n",
    "def square_numbers(numbers):\n",
    "    return list(map(lambda n: n**2, numbers))\n",
    "\n",
    "print(square_numbers([1, 2, 3, 4, 5]))\n"
   ]
  },
  {
   "cell_type": "markdown",
   "metadata": {},
   "source": [
    "Function 4 - Lambda with filter()"
   ]
  },
  {
   "cell_type": "code",
   "execution_count": 15,
   "metadata": {},
   "outputs": [
    {
     "name": "stdout",
     "output_type": "stream",
     "text": [
      "[2, 4, 6]\n"
     ]
    }
   ],
   "source": [
    "#Write a lambda function inside filter() that:\n",
    "#Takes a list of numbers.\n",
    "#Returns a new list containing only even numbers.\n",
    "\n",
    "def filter_even(numbers):\n",
    "    return list(filter(lambda n: n % 2 == 0,numbers ))\n",
    "\n",
    "print(filter_even([1, 2, 3, 4, 5, 6]))"
   ]
  },
  {
   "cell_type": "code",
   "execution_count": null,
   "metadata": {},
   "outputs": [],
   "source": []
  }
 ],
 "metadata": {
  "kernelspec": {
   "display_name": ".venv",
   "language": "python",
   "name": "python3"
  },
  "language_info": {
   "codemirror_mode": {
    "name": "ipython",
    "version": 3
   },
   "file_extension": ".py",
   "mimetype": "text/x-python",
   "name": "python",
   "nbconvert_exporter": "python",
   "pygments_lexer": "ipython3",
   "version": "3.13.1"
  }
 },
 "nbformat": 4,
 "nbformat_minor": 2
}
