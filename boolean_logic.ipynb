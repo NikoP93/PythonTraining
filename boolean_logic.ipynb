{
 "cells": [
  {
   "cell_type": "markdown",
   "metadata": {},
   "source": [
    "Function 1 - Boolean conditions"
   ]
  },
  {
   "cell_type": "code",
   "execution_count": null,
   "metadata": {},
   "outputs": [],
   "source": [
    "#Write a function is_valid_triangle(a, b, c) that:\n",
    "#Takes three numbers as input (a, b, c), representing the sides of a triangle.\n",
    "#Returns True if the numbers form a valid triangle, otherwise False.\n",
    "#A valid triangle follows the triangle inequality theorem:\n",
    "#The sum of any two sides must be greater than the third side.\n",
    "\n",
    "def is_valid_triangle(a,b,c):\n",
    "    return a + b > c and a + c > b and c + b > a\n",
    "      \n",
    "\n",
    "    "
   ]
  },
  {
   "cell_type": "markdown",
   "metadata": {},
   "source": [
    "Function 2 - Boolean with Nested Conditions"
   ]
  },
  {
   "cell_type": "code",
   "execution_count": 6,
   "metadata": {},
   "outputs": [
    {
     "name": "stdout",
     "output_type": "stream",
     "text": [
      "False\n",
      "True\n"
     ]
    }
   ],
   "source": [
    "#Write a function is_leap_year(year) that:\n",
    "#Takes an integer year as input.\n",
    "#Returns True if it's a leap year, otherwise False.\n",
    "#Rules for Leap Year:\n",
    "#A year is leap if:\n",
    "#It is divisible by 4 and not divisible by 100, or\n",
    "#It is divisible by 400.\n",
    "\n",
    "def is_leap_year(year):\n",
    "    return (year % 4 == 0 and year % 100 != 0) or (year % 400 == 0)\n",
    "\n",
    "print(is_leap_year(2022))\n",
    "print(is_leap_year(2024))"
   ]
  },
  {
   "cell_type": "markdown",
   "metadata": {},
   "source": [
    "Function 3 - Boolean Logic with Multiple Conditions"
   ]
  },
  {
   "cell_type": "code",
   "execution_count": 9,
   "metadata": {},
   "outputs": [
    {
     "name": "stdout",
     "output_type": "stream",
     "text": [
      "True\n",
      "False\n"
     ]
    }
   ],
   "source": [
    "# Write a function is_strong_password(password) that:\n",
    "# Takes a string as input.\n",
    "# Returns True if the password is \"strong\", otherwise False.\n",
    "# A password is \"strong\" if:\n",
    "# It is at least 8 characters long.\n",
    "# It contains at least one digit (0-9).\n",
    "# It contains at least one uppercase letter (A-Z).\n",
    "# It contains at least one lowercase letter (a-z).\n",
    "\n",
    "def is_strong_password(password):\n",
    "    return (\n",
    "        len(password) >= 8 and\n",
    "        any(char.isdigit() for char in password) and\n",
    "        any(char.isupper() for char in password) and \n",
    "        any(char.islower() for char in password)\n",
    "    )\n",
    "\n",
    "print(is_strong_password(\"Password123\"))\n",
    "print(is_strong_password(\"password\"))"
   ]
  },
  {
   "cell_type": "markdown",
   "metadata": {},
   "source": [
    "Function 4 - Boolean with Lists & all()"
   ]
  },
  {
   "cell_type": "code",
   "execution_count": 13,
   "metadata": {},
   "outputs": [
    {
     "name": "stdout",
     "output_type": "stream",
     "text": [
      "True\n",
      "False\n",
      "True\n"
     ]
    }
   ],
   "source": [
    "# Write a function all_even(numbers) that:\n",
    "# Takes a list of integers as input.\n",
    "# Returns True if all numbers are even.\n",
    "#Returns False if at least one number is odd.\n",
    "\n",
    "def all_even(numbers):\n",
    "    return all(num % 2 == 0 for num in numbers)\n",
    "    \n",
    "\n",
    "print(all_even([2, 4, 6, 8]))   # Expected Output: True\n",
    "print(all_even([1, 2, 3, 4]))   # Expected Output: False\n",
    "print(all_even([]))             # Expected Output: True (empty list is considered \"all even\")\n"
   ]
  },
  {
   "cell_type": "code",
   "execution_count": null,
   "metadata": {},
   "outputs": [],
   "source": []
  }
 ],
 "metadata": {
  "kernelspec": {
   "display_name": ".venv",
   "language": "python",
   "name": "python3"
  },
  "language_info": {
   "codemirror_mode": {
    "name": "ipython",
    "version": 3
   },
   "file_extension": ".py",
   "mimetype": "text/x-python",
   "name": "python",
   "nbconvert_exporter": "python",
   "pygments_lexer": "ipython3",
   "version": "3.13.1"
  }
 },
 "nbformat": 4,
 "nbformat_minor": 2
}
