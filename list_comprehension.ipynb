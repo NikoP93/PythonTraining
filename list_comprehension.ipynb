{
 "cells": [
  {
   "cell_type": "markdown",
   "metadata": {},
   "source": [
    "For loops"
   ]
  },
  {
   "cell_type": "code",
   "execution_count": null,
   "metadata": {},
   "outputs": [
    {
     "name": "stdout",
     "output_type": "stream",
     "text": [
      "[0, 1, 4, 9, 16, 25, 36, 49, 64, 81]\n",
      "[0, 1, 4, 9, 16, 25, 36, 49, 64, 81]\n"
     ]
    }
   ],
   "source": [
    "#For loop\n",
    "squares = []\n",
    "\n",
    "for num in range(10):\n",
    "    squares.append(num ** 2)\n",
    "print(squares)\n",
    "\n",
    "#List comprehension of above\n",
    "squares = [num ** 2 for num in range(10)]\n",
    "print(squares)"
   ]
  },
  {
   "cell_type": "code",
   "execution_count": 8,
   "metadata": {},
   "outputs": [
    {
     "name": "stdout",
     "output_type": "stream",
     "text": [
      "['BANANA', 'PEAR', 'PEACH', 'STRAWBERRY', 'TOMATO']\n",
      "['BANANA', 'PEAR', 'PEACH', 'STRAWBERRY', 'TOMATO']\n"
     ]
    }
   ],
   "source": [
    "#Opgave 2 \n",
    "#Loop\n",
    "fruits = \"banana pear peach strawberry tomato\".split()\n",
    "upper_words = []\n",
    "for fruit in fruits:\n",
    "    upper_words.append(fruit.upper())\n",
    "\n",
    "print(upper_words)\n",
    "\n",
    "#List comprehension\n",
    "\n",
    "upper_words1 = [fruit.upper() for fruit in fruits]\n",
    "print(upper_words1)\n",
    "\n"
   ]
  },
  {
   "cell_type": "code",
   "execution_count": 20,
   "metadata": {},
   "outputs": [
    {
     "name": "stdout",
     "output_type": "stream",
     "text": [
      "[3, 5, 5, 3, 5, 4, 3, 4, 3]\n",
      "[3, 5, 5, 3, 5, 4, 3, 4, 3]\n"
     ]
    }
   ],
   "source": [
    "#Opgave 3\n",
    "words = \"the quick brown fox jumps over the lazy dog\".split()\n",
    "lengths = []\n",
    "for word in words:\n",
    "    lengths.append(len(word))\n",
    "print(lengths)\n",
    "\n",
    "lenghts1 = [len(word) for word in words]\n",
    "print(lenghts1)"
   ]
  },
  {
   "cell_type": "markdown",
   "metadata": {},
   "source": [
    "For loop with if condition"
   ]
  },
  {
   "cell_type": "code",
   "execution_count": null,
   "metadata": {},
   "outputs": [],
   "source": [
    "\n",
    "fizz_buzz_squares = []\n",
    "for num in range(10):\n",
    "    if (num % 3 == 0) or (num % 5 == 0):\n",
    "        fizz_buzz_squares.append(num ** 2)\n",
    "\n",
    "\n",
    "fizz_buzz_squares = [\n",
    "    num ** 2                             # Data transformation\n",
    "    for num in range(10)                 # Data source\n",
    "    if (num % 3 == 0) or (num % 5 == 0)  # Data filter\n",
    "]"
   ]
  },
  {
   "cell_type": "code",
   "execution_count": null,
   "metadata": {},
   "outputs": [
    {
     "name": "stdout",
     "output_type": "stream",
     "text": [
      "[0, 9, 25, 36, 81]\n",
      "[0, 9, 25, 36, 81]\n"
     ]
    }
   ],
   "source": [
    "fizz_buzz_squares = []\n",
    "for n in range(10):\n",
    "    if (n % 3 == 0) or (n % 5 == 0):\n",
    "        fizz_buzz_squares.append(n ** 2)\n",
    "print(fizz_buzz_squares)\n",
    "\n",
    "#List comprehension\n",
    "fizz_buzz_squares = [n ** 2 for n in range(10) if n %3 == 0 or n %5 == 0]\n",
    "print(fizz_buzz_squares)"
   ]
  },
  {
   "cell_type": "code",
   "execution_count": null,
   "metadata": {},
   "outputs": [
    {
     "name": "stdout",
     "output_type": "stream",
     "text": [
      "['PEAR', 'STRAWBERRY', 'TOMATO']\n",
      "['PEAR', 'STRAWBERRY', 'TOMATO']\n"
     ]
    }
   ],
   "source": [
    "fruits = \"Banana pear PEACH strawberry tomato\".split()\n",
    "upper_cased = []\n",
    "for fruit in fruits:\n",
    "    if fruit.islower():\n",
    "        upper_cased.append(fruit.upper())\n",
    "\n",
    "print(upper_cased)\n",
    "\n",
    "#List comprehension\n",
    "upper_cased = [fruit.upper() for fruit in fruits if fruit.islower()]\n",
    "print(upper_cased)"
   ]
  },
  {
   "cell_type": "code",
   "execution_count": 28,
   "metadata": {},
   "outputs": [
    {
     "name": "stdout",
     "output_type": "stream",
     "text": [
      "[5, 3, 4, 3]\n",
      "[5, 3, 4, 3]\n"
     ]
    }
   ],
   "source": [
    "words = \"the quick brown fox jumps over the lazy dog\".split()\n",
    "lengths = []\n",
    "for word in words:\n",
    "    if \"o\" in word:\n",
    "        lengths.append(len(word))\n",
    "\n",
    "print(lengths)\n",
    "\n",
    "#List comprehension\n",
    "\n",
    "lengths = [len(word) for word in words if 'o' in word]\n",
    "print(lengths)"
   ]
  },
  {
   "cell_type": "code",
   "execution_count": null,
   "metadata": {},
   "outputs": [],
   "source": []
  }
 ],
 "metadata": {
  "kernelspec": {
   "display_name": ".venv",
   "language": "python",
   "name": "python3"
  },
  "language_info": {
   "codemirror_mode": {
    "name": "ipython",
    "version": 3
   },
   "file_extension": ".py",
   "mimetype": "text/x-python",
   "name": "python",
   "nbconvert_exporter": "python",
   "pygments_lexer": "ipython3",
   "version": "3.13.1"
  }
 },
 "nbformat": 4,
 "nbformat_minor": 2
}
