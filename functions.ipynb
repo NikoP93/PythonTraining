{
 "cells": [
  {
   "cell_type": "markdown",
   "metadata": {},
   "source": [
    "Function 1"
   ]
  },
  {
   "cell_type": "code",
   "execution_count": 3,
   "metadata": {},
   "outputs": [
    {
     "name": "stdout",
     "output_type": "stream",
     "text": [
      "[4, 16, 36]\n"
     ]
    }
   ],
   "source": [
    "#Opgave 1\n",
    "# Write a Python function filter_even_squares(nums) that takes a list of integers,\n",
    "# squares each number, and returns a new list containing only the squared numbers that are even.\n",
    "\n",
    "def filter_even_squares(nums):\n",
    "    \"\"\"Returns a list of squares of even numbers from the input list.\"\"\"\n",
    "    even_squares = [num ** 2 for num in nums if num % 2 == 0]\n",
    "    return even_squares\n",
    "\n",
    "print(filter_even_squares([1, 2, 3, 4, 5, 6]))\n"
   ]
  },
  {
   "cell_type": "markdown",
   "metadata": {},
   "source": [
    "Function 2 - read file"
   ]
  },
  {
   "cell_type": "code",
   "execution_count": null,
   "metadata": {},
   "outputs": [],
   "source": [
    "# Write a function count_lines_with_keyword(filename, keyword) that:\n",
    "# Opens a text file (filename) for reading.\n",
    "# Counts how many lines contain the given keyword (case-insensitive).\n",
    "# Returns the count.\n",
    "\n",
    "def count_lines_with_keyword(filename, keyword):\n",
    "    \"\"\"Counts the number of lines in a file that contain the given keyword (case-insensitive).\"\"\"\n",
    "    count = 0\n",
    "    with open(filename, 'r') as file:  \n",
    "        for line in file:  \n",
    "            if keyword.lower() in line.lower():  # Case-insensitive search\n",
    "                count += 1  \n",
    "    return count\n",
    "\n",
    "#Comprehension version\n",
    "\n",
    "def count_lines_with_keyword(filename, keyword):\n",
    "    \"\"\"Counts lines in a file containing the keyword (case-insensitive) using list comprehension.\"\"\"\n",
    "    with open(filename, 'r') as file:\n",
    "        return sum(1 for line in file if keyword.lower() in line.lower())\n",
    "\n"
   ]
  },
  {
   "cell_type": "markdown",
   "metadata": {},
   "source": [
    "Function 3 - String processing"
   ]
  },
  {
   "cell_type": "code",
   "execution_count": null,
   "metadata": {},
   "outputs": [
    {
     "name": "stdout",
     "output_type": "stream",
     "text": [
      "dig med Hej\n"
     ]
    }
   ],
   "source": [
    "# Write a function reverse_words(sentence) that:\n",
    "#Takes a sentence as input.\n",
    "#Reverses the order of words (not letters).\n",
    "#Returns the transformed sentence.\n",
    "\n",
    "def reverse_words(sentence):\n",
    "    return ' '.join(sentence.split()[::-1])  # Split → Reverse → Join\n",
    "\n",
    "print(reverse_words(\"Hej med dig\"))"
   ]
  },
  {
   "cell_type": "code",
   "execution_count": null,
   "metadata": {},
   "outputs": [],
   "source": []
  }
 ],
 "metadata": {
  "kernelspec": {
   "display_name": ".venv",
   "language": "python",
   "name": "python3"
  },
  "language_info": {
   "codemirror_mode": {
    "name": "ipython",
    "version": 3
   },
   "file_extension": ".py",
   "mimetype": "text/x-python",
   "name": "python",
   "nbconvert_exporter": "python",
   "pygments_lexer": "ipython3",
   "version": "3.13.1"
  }
 },
 "nbformat": 4,
 "nbformat_minor": 2
}
